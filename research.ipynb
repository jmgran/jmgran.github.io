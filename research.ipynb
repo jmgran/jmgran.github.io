{
  "cells": [
    {
      "cell_type": "raw",
      "metadata": {},
      "source": [
        "---\n",
        "title: \"Research\"\n",
        "format: html\n",
        "css: styles.css\n",
        "---"
      ],
      "id": "62b0fb17"
    },
    {
      "cell_type": "markdown",
      "metadata": {},
      "source": [
        "```{css}\n",
        ".center h3 {\n",
        "  text-align: center;\n",
        "}\n",
        "```\n",
        "\n",
        "\n",
        "<center>\n",
        "\n",
        "My main research interests are [causal inference and time-to-event analysis](https://www.med.uio.no/imb/english/research/groups/causal-inference-methods/index.html){target=\"_blank\"}. In particular, I have worked on methods for estimating the effects of time-varying treatments on survival outcomes under time-dependent confounding and multi-state modelling of event history data. I also have an interest in studies of infectious diseases, and have done some work on topics such as excess mortality, infectious disease surveillance and infectious disease modelling.\n",
        "\n",
        "I am interested in applications to both randomised and observational data, including linked clinical and population wide registries. I am currently involved in various collaborative projects, e.g. on the effects of drug use on patient outcomes after traumatic injury with researchers at [the Oslo University Hospital](https://www.ous-research.no/ipot/){target=\"_blank\"}, funded by the Institute of Basic Medical Sciences, University of Oslo, and on the effects of workplace initiatives on sick leave and work-related outcomes with researchers at [the National Institute of Occupational Health in Norway](https://stami.no/en/){target=\"_blank\"}, funded by the Research Council of Norway.\n",
        "\n",
        "See my [Google Scholar profile](https://scholar.google.no/citations?hl=en&pli=1&user=GRG21B8AAAAJ){target=\"_blank\"} for a list of publications."
      ],
      "id": "21f165f2"
    }
  ],
  "metadata": {
    "kernelspec": {
      "display_name": "Python 3",
      "language": "python",
      "name": "python3"
    }
  },
  "nbformat": 4,
  "nbformat_minor": 5
}