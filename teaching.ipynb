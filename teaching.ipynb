{
  "cells": [
    {
      "cell_type": "raw",
      "metadata": {},
      "source": [
        "---\n",
        "title: \"Teaching\"\n",
        "---"
      ],
      "id": "c99bd438"
    },
    {
      "cell_type": "markdown",
      "metadata": {},
      "source": [
        "<style type=\"text/css\">\n",
        "  body{\n",
        "  font-size: 12pt;\n",
        "}\n",
        "</style>\n",
        "\n",
        "\n",
        "```{js, echo=FALSE}  \n",
        "(function() {  \n",
        "  for (const link of document.getElementsByTagName('a')) {  \n",
        "    if (/^(https?:)?\\/\\//.test(link.getAttribute('href'))) link.target = '_blank';  \n",
        "  }  \n",
        "})();  \n",
        "``` \n",
        "\n",
        "\n",
        "I teach courses in causal inference ([MF9570](https://www.uio.no/studier/emner/medisin/med/MF9570/){target=\"_blank\"}), survival analysis (e.g. [MF9510](https://www.uio.no/studier/emner/medisin/med/MF9510E/){target=\"_blank\"}) and introductory statistics (e.g. [MF9130](https://www.uio.no/studier/emner/medisin/med/MF9130E/){target=\"_blank\"})  at the Faculty of Medicine, University of Oslo, and other shorter courses.\n",
        "\n",
        "In april 2024 I held an [online ISCB course in biostatistics](iscbcourse) together with Ruth Keogh on causal inference for time-to-event outcomes with practical applications in R.\n"
      ],
      "id": "c039d479"
    }
  ],
  "metadata": {
    "kernelspec": {
      "display_name": "Python 3",
      "language": "python",
      "name": "python3"
    }
  },
  "nbformat": 4,
  "nbformat_minor": 5
}